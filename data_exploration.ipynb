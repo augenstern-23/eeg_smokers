{
 "cells": [
  {
   "cell_type": "code",
   "execution_count": 5,
   "id": "ee55752f-0e3a-42aa-bf3e-eaa2b71bf5ea",
   "metadata": {},
   "outputs": [
    {
     "data": {
      "text/plain": [
       "'de_DE.UTF-8'"
      ]
     },
     "execution_count": 5,
     "metadata": {},
     "output_type": "execute_result"
    }
   ],
   "source": [
    "# import packages\n",
    "import pandas as pd\n",
    "import numpy as np\n",
    "import seaborn as sns\n",
    "import altair as alt\n",
    "import matplotlib.pyplot as plt\n",
    "from sklearn.preprocessing import LabelEncoder\n",
    "from sklearn.model_selection import train_test_split\n",
    "#from data_handler import import_adult_data, column_statistics\n",
    "#from plot_handler import univariate_analysis_numeric, univariate_analysis_nominal, correlation_matrix, boxplot_single, boxplot_grouped, barplot_grouped\n",
    "#from classifier_handler import full_report, fit_grid_clf, report_params\n",
    "\n",
    "import locale\n",
    "from locale import atof\n",
    "locale.setlocale(locale.LC_NUMERIC, '')"
   ]
  },
  {
   "cell_type": "code",
   "execution_count": 6,
   "id": "4081c099-4e99-4ffb-8614-4d29fb27a8f4",
   "metadata": {},
   "outputs": [
    {
     "name": "stderr",
     "output_type": "stream",
     "text": [
      "/Users/paulinehubner/q/lib/python3.9/site-packages/IPython/core/interactiveshell.py:3444: FutureWarning: The error_bad_lines argument has been deprecated and will be removed in a future version.\n",
      "\n",
      "\n",
      "  exec(code_obj, self.user_global_ns, self.user_ns)\n",
      "b'Skipping line 13: expected 22 fields, saw 23\\nSkipping line 1710: expected 22 fields, saw 23\\n'\n",
      "b'Skipping line 13: expected 22 fields, saw 23\\nSkipping line 1710: expected 22 fields, saw 23\\n'\n",
      "b'Skipping line 13: expected 22 fields, saw 23\\nSkipping line 1710: expected 22 fields, saw 23\\n'\n",
      "b'Skipping line 13: expected 22 fields, saw 23\\nSkipping line 1710: expected 22 fields, saw 23\\n'\n",
      "b'Skipping line 13: expected 22 fields, saw 23\\nSkipping line 1710: expected 22 fields, saw 23\\n'\n",
      "b'Skipping line 13: expected 22 fields, saw 23\\nSkipping line 1710: expected 22 fields, saw 23\\n'\n"
     ]
    }
   ],
   "source": [
    "df_alpha = pd.read_csv('./data/meanPSD_Alpha.txt', delim_whitespace=True, error_bad_lines=False)\n",
    "df_beta1 = pd.read_csv('./data/meanPSD_Beta1.txt', delim_whitespace=True, error_bad_lines=False)\n",
    "df_beta2 = pd.read_csv('./data/meanPSD_Beta2.txt', delim_whitespace=True, error_bad_lines=False)\n",
    "df_gamma = pd.read_csv('./data/meanPSD_Gamma.txt', delim_whitespace=True, error_bad_lines=False)\n",
    "df_delta = pd.read_csv('./data/meanPSD_Delta.txt', delim_whitespace=True, error_bad_lines=False)\n",
    "df_theta = pd.read_csv('./data/meanPSD_Theta.txt', delim_whitespace=True, error_bad_lines=False)"
   ]
  },
  {
   "cell_type": "code",
   "execution_count": 7,
   "id": "fe87328b-4da6-4c7c-a801-b78a8bb37747",
   "metadata": {},
   "outputs": [],
   "source": [
    "df_alpha = df_alpha.drop_duplicates(subset=['Fp2-Average', 'Fp1-Average', 'F8-Average'], keep='first', inplace=False, ignore_index=False)\n",
    "df_beta1 = df_beta1.drop_duplicates(subset=['Fp2-Average', 'Fp1-Average', 'F8-Average'], keep='first', inplace=False, ignore_index=False)\n",
    "df_beta2 = df_beta2.drop_duplicates(subset=['Fp2-Average', 'Fp1-Average', 'F8-Average'], keep='first', inplace=False, ignore_index=False)\n",
    "df_gamma = df_gamma.drop_duplicates(subset=['Fp2-Average', 'Fp1-Average', 'F8-Average'], keep='first', inplace=False, ignore_index=False)\n",
    "df_delta = df_delta.drop_duplicates(subset=['Fp2-Average', 'Fp1-Average', 'F8-Average'], keep='first', inplace=False, ignore_index=False)\n",
    "df_theta = df_theta.drop_duplicates(subset=['Fp2-Average', 'Fp1-Average', 'F8-Average'], keep='first', inplace=False, ignore_index=False)"
   ]
  },
  {
   "cell_type": "code",
   "execution_count": 8,
   "id": "5a0a1907-03a1-43de-86ce-0e43f39647ce",
   "metadata": {},
   "outputs": [
    {
     "data": {
      "text/html": [
       "<div>\n",
       "<style scoped>\n",
       "    .dataframe tbody tr th:only-of-type {\n",
       "        vertical-align: middle;\n",
       "    }\n",
       "\n",
       "    .dataframe tbody tr th {\n",
       "        vertical-align: top;\n",
       "    }\n",
       "\n",
       "    .dataframe thead th {\n",
       "        text-align: right;\n",
       "    }\n",
       "</style>\n",
       "<table border=\"1\" class=\"dataframe\">\n",
       "  <thead>\n",
       "    <tr style=\"text-align: right;\">\n",
       "      <th></th>\n",
       "      <th>File</th>\n",
       "      <th>Fp2-Average</th>\n",
       "      <th>Fp1-Average</th>\n",
       "      <th>F8-Average</th>\n",
       "      <th>F7-Average</th>\n",
       "      <th>F4-Average</th>\n",
       "      <th>F3-Average</th>\n",
       "      <th>A2-Average</th>\n",
       "      <th>A1-Average</th>\n",
       "      <th>T4-Average</th>\n",
       "      <th>...</th>\n",
       "      <th>C3-Average</th>\n",
       "      <th>T6-Average</th>\n",
       "      <th>T5-Average</th>\n",
       "      <th>P4-Average</th>\n",
       "      <th>P3-Average</th>\n",
       "      <th>O2-Average</th>\n",
       "      <th>O1-Average</th>\n",
       "      <th>Fz-Average</th>\n",
       "      <th>Cz-Average</th>\n",
       "      <th>Pz-Average</th>\n",
       "    </tr>\n",
       "  </thead>\n",
       "  <tbody>\n",
       "    <tr>\n",
       "      <th>0</th>\n",
       "      <td>ru_nico.d.17.0019</td>\n",
       "      <td>4.161662</td>\n",
       "      <td>4.762865</td>\n",
       "      <td>7.246639</td>\n",
       "      <td>6.059806</td>\n",
       "      <td>2.153202</td>\n",
       "      <td>1.572805</td>\n",
       "      <td>15.029756</td>\n",
       "      <td>16.500593</td>\n",
       "      <td>9.567035</td>\n",
       "      <td>...</td>\n",
       "      <td>2.114502</td>\n",
       "      <td>9.567035</td>\n",
       "      <td>9.234154</td>\n",
       "      <td>20.851299</td>\n",
       "      <td>17.095161</td>\n",
       "      <td>22.880400</td>\n",
       "      <td>21.152048</td>\n",
       "      <td>1.129518</td>\n",
       "      <td>2.255890</td>\n",
       "      <td>18.627159</td>\n",
       "    </tr>\n",
       "    <tr>\n",
       "      <th>1</th>\n",
       "      <td>ru_nicod030032</td>\n",
       "      <td>3.518199</td>\n",
       "      <td>3.455632</td>\n",
       "      <td>3.530721</td>\n",
       "      <td>4.234659</td>\n",
       "      <td>1.874174</td>\n",
       "      <td>1.394773</td>\n",
       "      <td>7.810439</td>\n",
       "      <td>7.423106</td>\n",
       "      <td>3.998484</td>\n",
       "      <td>...</td>\n",
       "      <td>7.372659</td>\n",
       "      <td>3.998484</td>\n",
       "      <td>5.838541</td>\n",
       "      <td>15.995101</td>\n",
       "      <td>12.378187</td>\n",
       "      <td>9.849713</td>\n",
       "      <td>10.086205</td>\n",
       "      <td>1.926195</td>\n",
       "      <td>1.696814</td>\n",
       "      <td>10.556301</td>\n",
       "    </tr>\n",
       "    <tr>\n",
       "      <th>2</th>\n",
       "      <td>ru_nicod170019</td>\n",
       "      <td>4.161534</td>\n",
       "      <td>4.762608</td>\n",
       "      <td>7.246819</td>\n",
       "      <td>6.059433</td>\n",
       "      <td>2.153255</td>\n",
       "      <td>1.572751</td>\n",
       "      <td>15.029181</td>\n",
       "      <td>16.498966</td>\n",
       "      <td>9.566912</td>\n",
       "      <td>...</td>\n",
       "      <td>2.114394</td>\n",
       "      <td>9.566912</td>\n",
       "      <td>9.233415</td>\n",
       "      <td>20.850815</td>\n",
       "      <td>17.094631</td>\n",
       "      <td>22.879755</td>\n",
       "      <td>21.151377</td>\n",
       "      <td>1.129460</td>\n",
       "      <td>2.255825</td>\n",
       "      <td>18.626675</td>\n",
       "    </tr>\n",
       "    <tr>\n",
       "      <th>3</th>\n",
       "      <td>ru_nicod190021</td>\n",
       "      <td>5.457887</td>\n",
       "      <td>5.320032</td>\n",
       "      <td>8.166045</td>\n",
       "      <td>6.673810</td>\n",
       "      <td>2.488945</td>\n",
       "      <td>1.680824</td>\n",
       "      <td>28.949177</td>\n",
       "      <td>30.896576</td>\n",
       "      <td>10.956245</td>\n",
       "      <td>...</td>\n",
       "      <td>8.001479</td>\n",
       "      <td>10.956245</td>\n",
       "      <td>10.512586</td>\n",
       "      <td>23.326231</td>\n",
       "      <td>14.537515</td>\n",
       "      <td>37.609566</td>\n",
       "      <td>34.657375</td>\n",
       "      <td>1.417634</td>\n",
       "      <td>1.887176</td>\n",
       "      <td>12.033745</td>\n",
       "    </tr>\n",
       "    <tr>\n",
       "      <th>4</th>\n",
       "      <td>ru_nicod190026</td>\n",
       "      <td>1.742927</td>\n",
       "      <td>2.237509</td>\n",
       "      <td>2.294245</td>\n",
       "      <td>3.200365</td>\n",
       "      <td>1.093216</td>\n",
       "      <td>1.116978</td>\n",
       "      <td>4.283130</td>\n",
       "      <td>5.306987</td>\n",
       "      <td>4.650280</td>\n",
       "      <td>...</td>\n",
       "      <td>1.983116</td>\n",
       "      <td>4.650280</td>\n",
       "      <td>3.518667</td>\n",
       "      <td>4.448735</td>\n",
       "      <td>3.272606</td>\n",
       "      <td>5.652241</td>\n",
       "      <td>4.659122</td>\n",
       "      <td>0.588387</td>\n",
       "      <td>0.652448</td>\n",
       "      <td>4.443384</td>\n",
       "    </tr>\n",
       "  </tbody>\n",
       "</table>\n",
       "<p>5 rows × 22 columns</p>\n",
       "</div>"
      ],
      "text/plain": [
       "                File  Fp2-Average  Fp1-Average  F8-Average  F7-Average  \\\n",
       "0  ru_nico.d.17.0019     4.161662     4.762865    7.246639    6.059806   \n",
       "1     ru_nicod030032     3.518199     3.455632    3.530721    4.234659   \n",
       "2     ru_nicod170019     4.161534     4.762608    7.246819    6.059433   \n",
       "3     ru_nicod190021     5.457887     5.320032    8.166045    6.673810   \n",
       "4     ru_nicod190026     1.742927     2.237509    2.294245    3.200365   \n",
       "\n",
       "   F4-Average  F3-Average  A2-Average  A1-Average  T4-Average  ...  \\\n",
       "0    2.153202    1.572805   15.029756   16.500593    9.567035  ...   \n",
       "1    1.874174    1.394773    7.810439    7.423106    3.998484  ...   \n",
       "2    2.153255    1.572751   15.029181   16.498966    9.566912  ...   \n",
       "3    2.488945    1.680824   28.949177   30.896576   10.956245  ...   \n",
       "4    1.093216    1.116978    4.283130    5.306987    4.650280  ...   \n",
       "\n",
       "   C3-Average  T6-Average  T5-Average  P4-Average  P3-Average  O2-Average  \\\n",
       "0    2.114502    9.567035    9.234154   20.851299   17.095161   22.880400   \n",
       "1    7.372659    3.998484    5.838541   15.995101   12.378187    9.849713   \n",
       "2    2.114394    9.566912    9.233415   20.850815   17.094631   22.879755   \n",
       "3    8.001479   10.956245   10.512586   23.326231   14.537515   37.609566   \n",
       "4    1.983116    4.650280    3.518667    4.448735    3.272606    5.652241   \n",
       "\n",
       "   O1-Average  Fz-Average  Cz-Average  Pz-Average  \n",
       "0   21.152048    1.129518    2.255890   18.627159  \n",
       "1   10.086205    1.926195    1.696814   10.556301  \n",
       "2   21.151377    1.129460    2.255825   18.626675  \n",
       "3   34.657375    1.417634    1.887176   12.033745  \n",
       "4    4.659122    0.588387    0.652448    4.443384  \n",
       "\n",
       "[5 rows x 22 columns]"
      ]
     },
     "execution_count": 8,
     "metadata": {},
     "output_type": "execute_result"
    }
   ],
   "source": [
    "# convert float format from comma to dot\n",
    "df_alpha['Fp2-Average'] = df_alpha['Fp2-Average'].str.replace(',', '.').astype(float)\n",
    "df_alpha['Fp1-Average'] = df_alpha['Fp1-Average'].str.replace(',', '.').astype(float)\n",
    "df_alpha['F8-Average'] = df_alpha['F8-Average'].str.replace(',', '.').astype(float)\n",
    "df_alpha['F7-Average'] = df_alpha['F7-Average'].str.replace(',', '.').astype(float)\n",
    "df_alpha['F4-Average'] = df_alpha['F4-Average'].str.replace(',', '.').astype(float)\n",
    "df_alpha['F3-Average'] = df_alpha['F3-Average'].str.replace(',', '.').astype(float)\n",
    "df_alpha['A2-Average'] = df_alpha['A2-Average'].str.replace(',', '.').astype(float)\n",
    "df_alpha['A1-Average'] = df_alpha['A1-Average'].str.replace(',', '.').astype(float)\n",
    "df_alpha['T4-Average'] = df_alpha['T4-Average'].str.replace(',', '.').astype(float)\n",
    "df_alpha['T3-Average'] = df_alpha['T3-Average'].str.replace(',', '.').astype(float)\n",
    "df_alpha['C4-Average'] = df_alpha['C4-Average'].str.replace(',', '.').astype(float)\n",
    "df_alpha['C3-Average'] = df_alpha['C3-Average'].str.replace(',', '.').astype(float)\n",
    "df_alpha['T6-Average'] = df_alpha['T6-Average'].str.replace(',', '.').astype(float)\n",
    "df_alpha['T5-Average'] = df_alpha['T5-Average'].str.replace(',', '.').astype(float)\n",
    "df_alpha['P4-Average'] = df_alpha['P4-Average'].str.replace(',', '.').astype(float)\n",
    "df_alpha['P3-Average'] = df_alpha['P3-Average'].str.replace(',', '.').astype(float)\n",
    "df_alpha['O2-Average'] = df_alpha['O2-Average'].str.replace(',', '.').astype(float)\n",
    "df_alpha['O1-Average'] = df_alpha['O1-Average'].str.replace(',', '.').astype(float)\n",
    "df_alpha['Fz-Average'] = df_alpha['Fz-Average'].str.replace(',', '.').astype(float)\n",
    "df_alpha['Cz-Average'] = df_alpha['Cz-Average'].str.replace(',', '.').astype(float)\n",
    "df_alpha['Pz-Average'] = df_alpha['Pz-Average'].str.replace(',', '.').astype(float)\n",
    "\n",
    "df_alpha.head()"
   ]
  },
  {
   "cell_type": "code",
   "execution_count": 9,
   "id": "0ab4debc-30fb-4331-9fca-e672d88b79d6",
   "metadata": {},
   "outputs": [
    {
     "data": {
      "text/plain": [
       "File            object\n",
       "Fp2-Average    float64\n",
       "Fp1-Average    float64\n",
       "F8-Average     float64\n",
       "F7-Average     float64\n",
       "F4-Average     float64\n",
       "F3-Average     float64\n",
       "A2-Average     float64\n",
       "A1-Average     float64\n",
       "T4-Average     float64\n",
       "T3-Average     float64\n",
       "C4-Average     float64\n",
       "C3-Average     float64\n",
       "T6-Average     float64\n",
       "T5-Average     float64\n",
       "P4-Average     float64\n",
       "P3-Average     float64\n",
       "O2-Average     float64\n",
       "O1-Average     float64\n",
       "Fz-Average     float64\n",
       "Cz-Average     float64\n",
       "Pz-Average     float64\n",
       "dtype: object"
      ]
     },
     "execution_count": 9,
     "metadata": {},
     "output_type": "execute_result"
    }
   ],
   "source": [
    "# convert float format from comma to dot\n",
    "df_beta1['Fp2-Average'] = df_beta1['Fp2-Average'].str.replace(',', '.').astype(float)\n",
    "df_beta1['Fp1-Average'] = df_beta1['Fp1-Average'].str.replace(',', '.').astype(float)\n",
    "df_beta1['F8-Average'] = df_beta1['F8-Average'].str.replace(',', '.').astype(float)\n",
    "df_beta1['F7-Average'] = df_beta1['F7-Average'].str.replace(',', '.').astype(float)\n",
    "df_beta1['F4-Average'] = df_beta1['F4-Average'].str.replace(',', '.').astype(float)\n",
    "df_beta1['F3-Average'] = df_beta1['F3-Average'].str.replace(',', '.').astype(float)\n",
    "df_beta1['A2-Average'] = df_beta1['A2-Average'].str.replace(',', '.').astype(float)\n",
    "df_beta1['A1-Average'] = df_beta1['A1-Average'].str.replace(',', '.').astype(float)\n",
    "df_beta1['T4-Average'] = df_beta1['T4-Average'].str.replace(',', '.').astype(float)\n",
    "df_beta1['T3-Average'] = df_beta1['T3-Average'].str.replace(',', '.').astype(float)\n",
    "df_beta1['C4-Average'] = df_beta1['C4-Average'].str.replace(',', '.').astype(float)\n",
    "df_beta1['C3-Average'] = df_beta1['C3-Average'].str.replace(',', '.').astype(float)\n",
    "df_beta1['T6-Average'] = df_beta1['T6-Average'].str.replace(',', '.').astype(float)\n",
    "df_beta1['T5-Average'] = df_beta1['T5-Average'].str.replace(',', '.').astype(float)\n",
    "df_beta1['P4-Average'] = df_beta1['P4-Average'].str.replace(',', '.').astype(float)\n",
    "df_beta1['P3-Average'] = df_beta1['P3-Average'].str.replace(',', '.').astype(float)\n",
    "df_beta1['O2-Average'] = df_beta1['O2-Average'].str.replace(',', '.').astype(float)\n",
    "df_beta1['O1-Average'] = df_beta1['O1-Average'].str.replace(',', '.').astype(float)\n",
    "df_beta1['Fz-Average'] = df_beta1['Fz-Average'].str.replace(',', '.').astype(float)\n",
    "df_beta1['Cz-Average'] = df_beta1['Cz-Average'].str.replace(',', '.').astype(float)\n",
    "df_beta1['Pz-Average'] = df_beta1['Pz-Average'].str.replace(',', '.').astype(float)\n",
    "\n",
    "df_beta1.dtypes"
   ]
  },
  {
   "cell_type": "code",
   "execution_count": 10,
   "id": "b57ea590-a314-4c79-b7ff-30214b2d8f36",
   "metadata": {},
   "outputs": [
    {
     "data": {
      "text/plain": [
       "File            object\n",
       "Fp2-Average    float64\n",
       "Fp1-Average    float64\n",
       "F8-Average     float64\n",
       "F7-Average     float64\n",
       "F4-Average     float64\n",
       "F3-Average     float64\n",
       "A2-Average     float64\n",
       "A1-Average     float64\n",
       "T4-Average     float64\n",
       "T3-Average     float64\n",
       "C4-Average     float64\n",
       "C3-Average     float64\n",
       "T6-Average     float64\n",
       "T5-Average     float64\n",
       "P4-Average     float64\n",
       "P3-Average     float64\n",
       "O2-Average      object\n",
       "O1-Average      object\n",
       "Fz-Average     float64\n",
       "Cz-Average     float64\n",
       "Pz-Average     float64\n",
       "dtype: object"
      ]
     },
     "execution_count": 10,
     "metadata": {},
     "output_type": "execute_result"
    }
   ],
   "source": [
    "# convert float format from comma to dot\n",
    "df_beta2['Fp2-Average'] = df_beta2['Fp2-Average'].str.replace(',', '.').astype(float)\n",
    "df_beta2['Fp1-Average'] = df_beta2['Fp1-Average'].str.replace(',', '.').astype(float)\n",
    "df_beta2['F8-Average'] = df_beta2['F8-Average'].str.replace(',', '.').astype(float)\n",
    "df_beta2['F7-Average'] = df_beta2['F7-Average'].str.replace(',', '.').astype(float)\n",
    "df_beta2['F4-Average'] = df_beta2['F4-Average'].str.replace(',', '.').astype(float)\n",
    "df_beta2['F3-Average'] = df_beta2['F3-Average'].str.replace(',', '.').astype(float)\n",
    "df_beta2['A2-Average'] = df_beta2['A2-Average'].str.replace(',', '.').astype(float)\n",
    "df_beta2['A1-Average'] = df_beta2['A1-Average'].str.replace(',', '.').astype(float)\n",
    "df_beta2['T4-Average'] = df_beta2['T4-Average'].str.replace(',', '.').astype(float)\n",
    "df_beta2['T3-Average'] = df_beta2['T3-Average'].str.replace(',', '.').astype(float)\n",
    "df_beta2['C4-Average'] = df_beta2['C4-Average'].str.replace(',', '.').astype(float)\n",
    "df_beta2['C3-Average'] = df_beta2['C3-Average'].str.replace(',', '.').astype(float)\n",
    "df_beta2['T6-Average'] = df_beta2['T6-Average'].str.replace(',', '.').astype(float)\n",
    "df_beta2['T5-Average'] = df_beta2['T5-Average'].str.replace(',', '.').astype(float)\n",
    "df_beta2['P4-Average'] = df_beta2['P4-Average'].str.replace(',', '.').astype(float)\n",
    "df_beta2['P3-Average'] = df_beta2['P3-Average'].str.replace(',', '.').astype(float)\n",
    "df_beta1['O2-Average'] = df_beta2['O2-Average'].str.replace(',', '.').astype(float)\n",
    "df_beta1['O1-Average'] = df_beta2['O1-Average'].str.replace(',', '.').astype(float)\n",
    "df_beta2['Fz-Average'] = df_beta2['Fz-Average'].str.replace(',', '.').astype(float)\n",
    "df_beta2['Cz-Average'] = df_beta2['Cz-Average'].str.replace(',', '.').astype(float)\n",
    "df_beta2['Pz-Average'] = df_beta2['Pz-Average'].str.replace(',', '.').astype(float)\n",
    "df_beta2.dtypes"
   ]
  },
  {
   "cell_type": "code",
   "execution_count": 11,
   "id": "7cdc004a-f417-41d6-bbd3-6db28615fd88",
   "metadata": {},
   "outputs": [
    {
     "data": {
      "text/plain": [
       "File            object\n",
       "Fp2-Average    float64\n",
       "Fp1-Average    float64\n",
       "F8-Average     float64\n",
       "F7-Average     float64\n",
       "F4-Average     float64\n",
       "F3-Average     float64\n",
       "A2-Average     float64\n",
       "A1-Average     float64\n",
       "T4-Average     float64\n",
       "T3-Average     float64\n",
       "C4-Average     float64\n",
       "C3-Average     float64\n",
       "T6-Average     float64\n",
       "T5-Average     float64\n",
       "P4-Average     float64\n",
       "P3-Average     float64\n",
       "O2-Average     float64\n",
       "O1-Average     float64\n",
       "Fz-Average     float64\n",
       "Cz-Average     float64\n",
       "Pz-Average     float64\n",
       "dtype: object"
      ]
     },
     "execution_count": 11,
     "metadata": {},
     "output_type": "execute_result"
    }
   ],
   "source": [
    "# convert float format from comma to dot\n",
    "df_delta['Fp2-Average'] = df_delta['Fp2-Average'].str.replace(',', '.').astype(float)\n",
    "df_delta['Fp1-Average'] = df_delta['Fp1-Average'].str.replace(',', '.').astype(float)\n",
    "df_delta['F8-Average'] = df_delta['F8-Average'].str.replace(',', '.').astype(float)\n",
    "df_delta['F7-Average'] = df_delta['F7-Average'].str.replace(',', '.').astype(float)\n",
    "df_delta['F4-Average'] = df_delta['F4-Average'].str.replace(',', '.').astype(float)\n",
    "df_delta['F3-Average'] = df_delta['F3-Average'].str.replace(',', '.').astype(float)\n",
    "df_delta['A2-Average'] = df_delta['A2-Average'].str.replace(',', '.').astype(float)\n",
    "df_delta['A1-Average'] = df_delta['A1-Average'].str.replace(',', '.').astype(float)\n",
    "df_delta['T4-Average'] = df_delta['T4-Average'].str.replace(',', '.').astype(float)\n",
    "df_delta['T3-Average'] = df_delta['T3-Average'].str.replace(',', '.').astype(float)\n",
    "df_delta['C4-Average'] = df_delta['C4-Average'].str.replace(',', '.').astype(float)\n",
    "df_delta['C3-Average'] = df_delta['C3-Average'].str.replace(',', '.').astype(float)\n",
    "df_delta['T6-Average'] = df_delta['T6-Average'].str.replace(',', '.').astype(float)\n",
    "df_delta['T5-Average'] = df_delta['T5-Average'].str.replace(',', '.').astype(float)\n",
    "df_delta['P4-Average'] = df_delta['P4-Average'].str.replace(',', '.').astype(float)\n",
    "df_delta['P3-Average'] = df_delta['P3-Average'].str.replace(',', '.').astype(float)\n",
    "df_delta['O2-Average'] = df_delta['O2-Average'].str.replace(',', '.').astype(float)\n",
    "df_delta['O1-Average'] = df_delta['O1-Average'].str.replace(',', '.').astype(float)\n",
    "df_delta['Fz-Average'] = df_delta['Fz-Average'].str.replace(',', '.').astype(float)\n",
    "df_delta['Cz-Average'] = df_delta['Cz-Average'].str.replace(',', '.').astype(float)\n",
    "df_delta['Pz-Average'] = df_delta['Pz-Average'].str.replace(',', '.').astype(float)\n",
    "df_delta.dtypes"
   ]
  },
  {
   "cell_type": "code",
   "execution_count": 12,
   "id": "6ce80fd4-09a0-43a6-92ed-b4704e594667",
   "metadata": {},
   "outputs": [
    {
     "data": {
      "text/plain": [
       "File            object\n",
       "Fp2-Average    float64\n",
       "Fp1-Average    float64\n",
       "F8-Average     float64\n",
       "F7-Average     float64\n",
       "F4-Average     float64\n",
       "F3-Average     float64\n",
       "A2-Average     float64\n",
       "A1-Average     float64\n",
       "T4-Average     float64\n",
       "T3-Average     float64\n",
       "C4-Average     float64\n",
       "C3-Average     float64\n",
       "T6-Average     float64\n",
       "T5-Average     float64\n",
       "P4-Average     float64\n",
       "P3-Average     float64\n",
       "O2-Average     float64\n",
       "O1-Average     float64\n",
       "Fz-Average     float64\n",
       "Cz-Average     float64\n",
       "Pz-Average     float64\n",
       "dtype: object"
      ]
     },
     "execution_count": 12,
     "metadata": {},
     "output_type": "execute_result"
    }
   ],
   "source": [
    "# convert float format from comma to dot\n",
    "df_gamma['Fp2-Average'] = df_gamma['Fp2-Average'].str.replace(',', '.').astype(float)\n",
    "df_gamma['Fp1-Average'] = df_gamma['Fp1-Average'].str.replace(',', '.').astype(float)\n",
    "df_gamma['F8-Average'] = df_gamma['F8-Average'].str.replace(',', '.').astype(float)\n",
    "df_gamma['F7-Average'] = df_gamma['F7-Average'].str.replace(',', '.').astype(float)\n",
    "df_gamma['F4-Average'] = df_gamma['F4-Average'].str.replace(',', '.').astype(float)\n",
    "df_gamma['F3-Average'] = df_gamma['F3-Average'].str.replace(',', '.').astype(float)\n",
    "df_gamma['A2-Average'] = df_gamma['A2-Average'].str.replace(',', '.').astype(float)\n",
    "df_gamma['A1-Average'] = df_gamma['A1-Average'].str.replace(',', '.').astype(float)\n",
    "df_gamma['T4-Average'] = df_gamma['T4-Average'].str.replace(',', '.').astype(float)\n",
    "df_gamma['T3-Average'] = df_gamma['T3-Average'].str.replace(',', '.').astype(float)\n",
    "df_gamma['C4-Average'] = df_gamma['C4-Average'].str.replace(',', '.').astype(float)\n",
    "df_gamma['C3-Average'] = df_gamma['C3-Average'].str.replace(',', '.').astype(float)\n",
    "df_gamma['T6-Average'] = df_gamma['T6-Average'].str.replace(',', '.').astype(float)\n",
    "df_gamma['T5-Average'] = df_gamma['T5-Average'].str.replace(',', '.').astype(float)\n",
    "df_gamma['P4-Average'] = df_gamma['P4-Average'].str.replace(',', '.').astype(float)\n",
    "df_gamma['P3-Average'] = df_gamma['P3-Average'].str.replace(',', '.').astype(float)\n",
    "df_gamma['O2-Average'] = df_gamma['O2-Average'].str.replace(',', '.').astype(float)\n",
    "df_gamma['O1-Average'] = df_gamma['O1-Average'].str.replace(',', '.').astype(float)\n",
    "df_gamma['Fz-Average'] = df_gamma['Fz-Average'].str.replace(',', '.').astype(float)\n",
    "df_gamma['Cz-Average'] = df_gamma['Cz-Average'].str.replace(',', '.').astype(float)\n",
    "df_gamma['Pz-Average'] = df_gamma['Pz-Average'].str.replace(',', '.').astype(float)\n",
    "df_gamma.dtypes"
   ]
  },
  {
   "cell_type": "code",
   "execution_count": 13,
   "id": "105a46b3-092e-4bf5-a919-72cd1b4febca",
   "metadata": {},
   "outputs": [
    {
     "data": {
      "text/plain": [
       "File            object\n",
       "Fp2-Average    float64\n",
       "Fp1-Average    float64\n",
       "F8-Average     float64\n",
       "F7-Average     float64\n",
       "F4-Average     float64\n",
       "F3-Average     float64\n",
       "A2-Average     float64\n",
       "A1-Average     float64\n",
       "T4-Average     float64\n",
       "T3-Average     float64\n",
       "C4-Average     float64\n",
       "C3-Average     float64\n",
       "T6-Average     float64\n",
       "T5-Average     float64\n",
       "P4-Average     float64\n",
       "P3-Average     float64\n",
       "O2-Average     float64\n",
       "O1-Average     float64\n",
       "Fz-Average     float64\n",
       "Cz-Average     float64\n",
       "Pz-Average     float64\n",
       "dtype: object"
      ]
     },
     "execution_count": 13,
     "metadata": {},
     "output_type": "execute_result"
    }
   ],
   "source": [
    "# convert float format from comma to dot\n",
    "df_theta['Fp2-Average'] = df_theta['Fp2-Average'].str.replace(',', '.').astype(float)\n",
    "df_theta['Fp1-Average'] = df_theta['Fp1-Average'].str.replace(',', '.').astype(float)\n",
    "df_theta['F8-Average'] = df_theta['F8-Average'].str.replace(',', '.').astype(float)\n",
    "df_theta['F7-Average'] = df_theta['F7-Average'].str.replace(',', '.').astype(float)\n",
    "df_theta['F4-Average'] = df_theta['F4-Average'].str.replace(',', '.').astype(float)\n",
    "df_theta['F3-Average'] = df_theta['F3-Average'].str.replace(',', '.').astype(float)\n",
    "df_theta['A2-Average'] = df_theta['A2-Average'].str.replace(',', '.').astype(float)\n",
    "df_theta['A1-Average'] = df_theta['A1-Average'].str.replace(',', '.').astype(float)\n",
    "df_theta['T4-Average'] = df_theta['T4-Average'].str.replace(',', '.').astype(float)\n",
    "df_theta['T3-Average'] = df_theta['T3-Average'].str.replace(',', '.').astype(float)\n",
    "df_theta['C4-Average'] = df_theta['C4-Average'].str.replace(',', '.').astype(float)\n",
    "df_theta['C3-Average'] = df_theta['C3-Average'].str.replace(',', '.').astype(float)\n",
    "df_theta['T6-Average'] = df_theta['T6-Average'].str.replace(',', '.').astype(float)\n",
    "df_theta['T5-Average'] = df_theta['T5-Average'].str.replace(',', '.').astype(float)\n",
    "df_theta['P4-Average'] = df_theta['P4-Average'].str.replace(',', '.').astype(float)\n",
    "df_theta['P3-Average'] = df_theta['P3-Average'].str.replace(',', '.').astype(float)\n",
    "df_theta['O2-Average'] = df_theta['O2-Average'].str.replace(',', '.').astype(float)\n",
    "df_theta['O1-Average'] = df_theta['O1-Average'].str.replace(',', '.').astype(float)\n",
    "df_theta['Fz-Average'] = df_theta['Fz-Average'].str.replace(',', '.').astype(float)\n",
    "df_theta['Cz-Average'] = df_theta['Cz-Average'].str.replace(',', '.').astype(float)\n",
    "df_theta['Pz-Average'] = df_theta['Pz-Average'].str.replace(',', '.').astype(float)\n",
    "df_theta.dtypes"
   ]
  },
  {
   "cell_type": "code",
   "execution_count": 14,
   "id": "080eea31-fd0c-47bd-8fcc-dcb189b2d1ab",
   "metadata": {},
   "outputs": [
    {
     "data": {
      "text/plain": [
       "array([[<AxesSubplot:title={'center':'Fp2-Average'}>]], dtype=object)"
      ]
     },
     "execution_count": 14,
     "metadata": {},
     "output_type": "execute_result"
    },
    {
     "data": {
      "image/png": "[encoded data removed]",
      "text/plain": [
       "<Figure size 432x288 with 1 Axes>"
      ]
     },
     "metadata": {
      "needs_background": "light"
     },
     "output_type": "display_data"
    }
   ],
   "source": [
    "df_alpha.hist('Fp2-Average')"
   ]
  },
  {
   "cell_type": "code",
   "execution_count": 15,
   "id": "43633f24-1664-4355-9ec9-255e9c4fce08",
   "metadata": {},
   "outputs": [],
   "source": [
    "df_alpha.to_csv('./data/alpha.csv')\n",
    "df_beta1.to_csv('./data/beta1.csv')\n",
    "df_beta2.to_csv('./data/beta2.csv')\n",
    "df_gamma.to_csv('./data/gamma.csv')\n",
    "df_delta.to_csv('./data/delta.csv')\n",
    "df_theta.to_csv('./data/theta.csv')"
   ]
  },
  {
   "cell_type": "code",
   "execution_count": 16,
   "id": "fafd1479-e491-4495-b8d4-3044bf24ea1e",
   "metadata": {},
   "outputs": [
    {
     "data": {
      "text/html": [
       "<div>\n",
       "<style scoped>\n",
       "    .dataframe tbody tr th:only-of-type {\n",
       "        vertical-align: middle;\n",
       "    }\n",
       "\n",
       "    .dataframe tbody tr th {\n",
       "        vertical-align: top;\n",
       "    }\n",
       "\n",
       "    .dataframe thead th {\n",
       "        text-align: right;\n",
       "    }\n",
       "</style>\n",
       "<table border=\"1\" class=\"dataframe\">\n",
       "  <thead>\n",
       "    <tr style=\"text-align: right;\">\n",
       "      <th></th>\n",
       "      <th>Fp2-Average</th>\n",
       "      <th>Fp1-Average</th>\n",
       "      <th>F8-Average</th>\n",
       "      <th>F7-Average</th>\n",
       "      <th>F4-Average</th>\n",
       "      <th>F3-Average</th>\n",
       "      <th>A2-Average</th>\n",
       "      <th>A1-Average</th>\n",
       "      <th>T4-Average</th>\n",
       "      <th>T3-Average</th>\n",
       "      <th>...</th>\n",
       "      <th>C3-Average</th>\n",
       "      <th>T6-Average</th>\n",
       "      <th>T5-Average</th>\n",
       "      <th>P4-Average</th>\n",
       "      <th>P3-Average</th>\n",
       "      <th>O2-Average</th>\n",
       "      <th>O1-Average</th>\n",
       "      <th>Fz-Average</th>\n",
       "      <th>Cz-Average</th>\n",
       "      <th>Pz-Average</th>\n",
       "    </tr>\n",
       "  </thead>\n",
       "  <tbody>\n",
       "    <tr>\n",
       "      <th>0</th>\n",
       "      <td>4.161662</td>\n",
       "      <td>4.762865</td>\n",
       "      <td>7.246639</td>\n",
       "      <td>6.059806</td>\n",
       "      <td>2.153202</td>\n",
       "      <td>1.572805</td>\n",
       "      <td>15.029756</td>\n",
       "      <td>16.500593</td>\n",
       "      <td>9.567035</td>\n",
       "      <td>9.234154</td>\n",
       "      <td>...</td>\n",
       "      <td>2.114502</td>\n",
       "      <td>9.567035</td>\n",
       "      <td>9.234154</td>\n",
       "      <td>20.851299</td>\n",
       "      <td>17.095161</td>\n",
       "      <td>22.880400</td>\n",
       "      <td>21.152048</td>\n",
       "      <td>1.129518</td>\n",
       "      <td>2.255890</td>\n",
       "      <td>18.627159</td>\n",
       "    </tr>\n",
       "    <tr>\n",
       "      <th>1</th>\n",
       "      <td>3.518199</td>\n",
       "      <td>3.455632</td>\n",
       "      <td>3.530721</td>\n",
       "      <td>4.234659</td>\n",
       "      <td>1.874174</td>\n",
       "      <td>1.394773</td>\n",
       "      <td>7.810439</td>\n",
       "      <td>7.423106</td>\n",
       "      <td>3.998484</td>\n",
       "      <td>5.838541</td>\n",
       "      <td>...</td>\n",
       "      <td>7.372659</td>\n",
       "      <td>3.998484</td>\n",
       "      <td>5.838541</td>\n",
       "      <td>15.995101</td>\n",
       "      <td>12.378187</td>\n",
       "      <td>9.849713</td>\n",
       "      <td>10.086205</td>\n",
       "      <td>1.926195</td>\n",
       "      <td>1.696814</td>\n",
       "      <td>10.556301</td>\n",
       "    </tr>\n",
       "    <tr>\n",
       "      <th>2</th>\n",
       "      <td>4.161534</td>\n",
       "      <td>4.762608</td>\n",
       "      <td>7.246819</td>\n",
       "      <td>6.059433</td>\n",
       "      <td>2.153255</td>\n",
       "      <td>1.572751</td>\n",
       "      <td>15.029181</td>\n",
       "      <td>16.498966</td>\n",
       "      <td>9.566912</td>\n",
       "      <td>9.233415</td>\n",
       "      <td>...</td>\n",
       "      <td>2.114394</td>\n",
       "      <td>9.566912</td>\n",
       "      <td>9.233415</td>\n",
       "      <td>20.850815</td>\n",
       "      <td>17.094631</td>\n",
       "      <td>22.879755</td>\n",
       "      <td>21.151377</td>\n",
       "      <td>1.129460</td>\n",
       "      <td>2.255825</td>\n",
       "      <td>18.626675</td>\n",
       "    </tr>\n",
       "    <tr>\n",
       "      <th>3</th>\n",
       "      <td>5.457887</td>\n",
       "      <td>5.320032</td>\n",
       "      <td>8.166045</td>\n",
       "      <td>6.673810</td>\n",
       "      <td>2.488945</td>\n",
       "      <td>1.680824</td>\n",
       "      <td>28.949177</td>\n",
       "      <td>30.896576</td>\n",
       "      <td>10.956245</td>\n",
       "      <td>10.512586</td>\n",
       "      <td>...</td>\n",
       "      <td>8.001479</td>\n",
       "      <td>10.956245</td>\n",
       "      <td>10.512586</td>\n",
       "      <td>23.326231</td>\n",
       "      <td>14.537515</td>\n",
       "      <td>37.609566</td>\n",
       "      <td>34.657375</td>\n",
       "      <td>1.417634</td>\n",
       "      <td>1.887176</td>\n",
       "      <td>12.033745</td>\n",
       "    </tr>\n",
       "    <tr>\n",
       "      <th>4</th>\n",
       "      <td>1.742927</td>\n",
       "      <td>2.237509</td>\n",
       "      <td>2.294245</td>\n",
       "      <td>3.200365</td>\n",
       "      <td>1.093216</td>\n",
       "      <td>1.116978</td>\n",
       "      <td>4.283130</td>\n",
       "      <td>5.306987</td>\n",
       "      <td>4.650280</td>\n",
       "      <td>3.518667</td>\n",
       "      <td>...</td>\n",
       "      <td>1.983116</td>\n",
       "      <td>4.650280</td>\n",
       "      <td>3.518667</td>\n",
       "      <td>4.448735</td>\n",
       "      <td>3.272606</td>\n",
       "      <td>5.652241</td>\n",
       "      <td>4.659122</td>\n",
       "      <td>0.588387</td>\n",
       "      <td>0.652448</td>\n",
       "      <td>4.443384</td>\n",
       "    </tr>\n",
       "    <tr>\n",
       "      <th>...</th>\n",
       "      <td>...</td>\n",
       "      <td>...</td>\n",
       "      <td>...</td>\n",
       "      <td>...</td>\n",
       "      <td>...</td>\n",
       "      <td>...</td>\n",
       "      <td>...</td>\n",
       "      <td>...</td>\n",
       "      <td>...</td>\n",
       "      <td>...</td>\n",
       "      <td>...</td>\n",
       "      <td>...</td>\n",
       "      <td>...</td>\n",
       "      <td>...</td>\n",
       "      <td>...</td>\n",
       "      <td>...</td>\n",
       "      <td>...</td>\n",
       "      <td>...</td>\n",
       "      <td>...</td>\n",
       "      <td>...</td>\n",
       "      <td>...</td>\n",
       "    </tr>\n",
       "    <tr>\n",
       "      <th>1998</th>\n",
       "      <td>1.200484</td>\n",
       "      <td>1.107137</td>\n",
       "      <td>1.795225</td>\n",
       "      <td>2.269453</td>\n",
       "      <td>0.590614</td>\n",
       "      <td>0.737258</td>\n",
       "      <td>3.494191</td>\n",
       "      <td>3.470459</td>\n",
       "      <td>2.716809</td>\n",
       "      <td>2.794697</td>\n",
       "      <td>...</td>\n",
       "      <td>0.839728</td>\n",
       "      <td>2.716809</td>\n",
       "      <td>2.794697</td>\n",
       "      <td>2.281852</td>\n",
       "      <td>1.980693</td>\n",
       "      <td>2.849909</td>\n",
       "      <td>2.740643</td>\n",
       "      <td>0.329811</td>\n",
       "      <td>0.333317</td>\n",
       "      <td>1.711145</td>\n",
       "    </tr>\n",
       "    <tr>\n",
       "      <th>1999</th>\n",
       "      <td>2.152215</td>\n",
       "      <td>2.203316</td>\n",
       "      <td>2.492165</td>\n",
       "      <td>3.222685</td>\n",
       "      <td>1.146153</td>\n",
       "      <td>1.023774</td>\n",
       "      <td>6.332191</td>\n",
       "      <td>7.495187</td>\n",
       "      <td>3.771545</td>\n",
       "      <td>4.962333</td>\n",
       "      <td>...</td>\n",
       "      <td>1.435344</td>\n",
       "      <td>3.771545</td>\n",
       "      <td>4.962333</td>\n",
       "      <td>5.415292</td>\n",
       "      <td>5.249610</td>\n",
       "      <td>17.260777</td>\n",
       "      <td>15.197314</td>\n",
       "      <td>0.444608</td>\n",
       "      <td>0.521218</td>\n",
       "      <td>4.416704</td>\n",
       "    </tr>\n",
       "    <tr>\n",
       "      <th>2000</th>\n",
       "      <td>3.269129</td>\n",
       "      <td>2.987093</td>\n",
       "      <td>3.276003</td>\n",
       "      <td>2.860202</td>\n",
       "      <td>0.866453</td>\n",
       "      <td>0.895220</td>\n",
       "      <td>14.854268</td>\n",
       "      <td>16.295338</td>\n",
       "      <td>5.452332</td>\n",
       "      <td>5.863682</td>\n",
       "      <td>...</td>\n",
       "      <td>2.855283</td>\n",
       "      <td>5.452332</td>\n",
       "      <td>5.863682</td>\n",
       "      <td>18.183191</td>\n",
       "      <td>19.696339</td>\n",
       "      <td>49.208736</td>\n",
       "      <td>56.667461</td>\n",
       "      <td>0.310272</td>\n",
       "      <td>0.948803</td>\n",
       "      <td>14.722844</td>\n",
       "    </tr>\n",
       "    <tr>\n",
       "      <th>2001</th>\n",
       "      <td>3.216888</td>\n",
       "      <td>3.785900</td>\n",
       "      <td>2.597943</td>\n",
       "      <td>2.204316</td>\n",
       "      <td>1.109382</td>\n",
       "      <td>1.076722</td>\n",
       "      <td>10.479017</td>\n",
       "      <td>9.797897</td>\n",
       "      <td>5.450221</td>\n",
       "      <td>4.791178</td>\n",
       "      <td>...</td>\n",
       "      <td>1.795023</td>\n",
       "      <td>5.450221</td>\n",
       "      <td>4.791178</td>\n",
       "      <td>12.239549</td>\n",
       "      <td>8.647070</td>\n",
       "      <td>19.454445</td>\n",
       "      <td>15.349119</td>\n",
       "      <td>0.547038</td>\n",
       "      <td>0.689619</td>\n",
       "      <td>8.316186</td>\n",
       "    </tr>\n",
       "    <tr>\n",
       "      <th>2002</th>\n",
       "      <td>6.192163</td>\n",
       "      <td>5.425244</td>\n",
       "      <td>7.465075</td>\n",
       "      <td>7.100925</td>\n",
       "      <td>2.941471</td>\n",
       "      <td>2.923708</td>\n",
       "      <td>25.077402</td>\n",
       "      <td>31.683754</td>\n",
       "      <td>10.861625</td>\n",
       "      <td>14.802551</td>\n",
       "      <td>...</td>\n",
       "      <td>16.386951</td>\n",
       "      <td>10.861625</td>\n",
       "      <td>14.802551</td>\n",
       "      <td>47.279270</td>\n",
       "      <td>89.087868</td>\n",
       "      <td>42.878067</td>\n",
       "      <td>43.491341</td>\n",
       "      <td>1.751959</td>\n",
       "      <td>6.435319</td>\n",
       "      <td>72.525230</td>\n",
       "    </tr>\n",
       "  </tbody>\n",
       "</table>\n",
       "<p>2003 rows × 21 columns</p>\n",
       "</div>"
      ],
      "text/plain": [
       "      Fp2-Average  Fp1-Average  F8-Average  F7-Average  F4-Average  \\\n",
       "0        4.161662     4.762865    7.246639    6.059806    2.153202   \n",
       "1        3.518199     3.455632    3.530721    4.234659    1.874174   \n",
       "2        4.161534     4.762608    7.246819    6.059433    2.153255   \n",
       "3        5.457887     5.320032    8.166045    6.673810    2.488945   \n",
       "4        1.742927     2.237509    2.294245    3.200365    1.093216   \n",
       "...           ...          ...         ...         ...         ...   \n",
       "1998     1.200484     1.107137    1.795225    2.269453    0.590614   \n",
       "1999     2.152215     2.203316    2.492165    3.222685    1.146153   \n",
       "2000     3.269129     2.987093    3.276003    2.860202    0.866453   \n",
       "2001     3.216888     3.785900    2.597943    2.204316    1.109382   \n",
       "2002     6.192163     5.425244    7.465075    7.100925    2.941471   \n",
       "\n",
       "      F3-Average  A2-Average  A1-Average  T4-Average  T3-Average  ...  \\\n",
       "0       1.572805   15.029756   16.500593    9.567035    9.234154  ...   \n",
       "1       1.394773    7.810439    7.423106    3.998484    5.838541  ...   \n",
       "2       1.572751   15.029181   16.498966    9.566912    9.233415  ...   \n",
       "3       1.680824   28.949177   30.896576   10.956245   10.512586  ...   \n",
       "4       1.116978    4.283130    5.306987    4.650280    3.518667  ...   \n",
       "...          ...         ...         ...         ...         ...  ...   \n",
       "1998    0.737258    3.494191    3.470459    2.716809    2.794697  ...   \n",
       "1999    1.023774    6.332191    7.495187    3.771545    4.962333  ...   \n",
       "2000    0.895220   14.854268   16.295338    5.452332    5.863682  ...   \n",
       "2001    1.076722   10.479017    9.797897    5.450221    4.791178  ...   \n",
       "2002    2.923708   25.077402   31.683754   10.861625   14.802551  ...   \n",
       "\n",
       "      C3-Average  T6-Average  T5-Average  P4-Average  P3-Average  O2-Average  \\\n",
       "0       2.114502    9.567035    9.234154   20.851299   17.095161   22.880400   \n",
       "1       7.372659    3.998484    5.838541   15.995101   12.378187    9.849713   \n",
       "2       2.114394    9.566912    9.233415   20.850815   17.094631   22.879755   \n",
       "3       8.001479   10.956245   10.512586   23.326231   14.537515   37.609566   \n",
       "4       1.983116    4.650280    3.518667    4.448735    3.272606    5.652241   \n",
       "...          ...         ...         ...         ...         ...         ...   \n",
       "1998    0.839728    2.716809    2.794697    2.281852    1.980693    2.849909   \n",
       "1999    1.435344    3.771545    4.962333    5.415292    5.249610   17.260777   \n",
       "2000    2.855283    5.452332    5.863682   18.183191   19.696339   49.208736   \n",
       "2001    1.795023    5.450221    4.791178   12.239549    8.647070   19.454445   \n",
       "2002   16.386951   10.861625   14.802551   47.279270   89.087868   42.878067   \n",
       "\n",
       "      O1-Average  Fz-Average  Cz-Average  Pz-Average  \n",
       "0      21.152048    1.129518    2.255890   18.627159  \n",
       "1      10.086205    1.926195    1.696814   10.556301  \n",
       "2      21.151377    1.129460    2.255825   18.626675  \n",
       "3      34.657375    1.417634    1.887176   12.033745  \n",
       "4       4.659122    0.588387    0.652448    4.443384  \n",
       "...          ...         ...         ...         ...  \n",
       "1998    2.740643    0.329811    0.333317    1.711145  \n",
       "1999   15.197314    0.444608    0.521218    4.416704  \n",
       "2000   56.667461    0.310272    0.948803   14.722844  \n",
       "2001   15.349119    0.547038    0.689619    8.316186  \n",
       "2002   43.491341    1.751959    6.435319   72.525230  \n",
       "\n",
       "[2003 rows x 21 columns]"
      ]
     },
     "execution_count": 16,
     "metadata": {},
     "output_type": "execute_result"
    }
   ],
   "source": [
    "df_alpha.drop(['File'] ,axis=1)"
   ]
  },
  {
   "cell_type": "code",
   "execution_count": 17,
   "id": "2a0e8abd-474c-4485-bad0-f6a74549174f",
   "metadata": {},
   "outputs": [
    {
     "data": {
      "text/plain": [
       "File            object\n",
       "Fp2-Average    float64\n",
       "Fp1-Average    float64\n",
       "F8-Average     float64\n",
       "F7-Average     float64\n",
       "F4-Average     float64\n",
       "F3-Average     float64\n",
       "A2-Average     float64\n",
       "A1-Average     float64\n",
       "T4-Average     float64\n",
       "T3-Average     float64\n",
       "C4-Average     float64\n",
       "C3-Average     float64\n",
       "T6-Average     float64\n",
       "T5-Average     float64\n",
       "P4-Average     float64\n",
       "P3-Average     float64\n",
       "O2-Average     float64\n",
       "O1-Average     float64\n",
       "Fz-Average     float64\n",
       "Cz-Average     float64\n",
       "Pz-Average     float64\n",
       "dtype: object"
      ]
     },
     "execution_count": 17,
     "metadata": {},
     "output_type": "execute_result"
    }
   ],
   "source": [
    "df_alpha.dtypes\n",
    "#df_beta2.dtypes"
   ]
  },
  {
   "cell_type": "code",
   "execution_count": 18,
   "id": "8aa30a69-7a0a-4a6e-8468-11602a187a12",
   "metadata": {},
   "outputs": [],
   "source": [
    "#df_alpha['Fp2-Average'].astype(str).astype(int)\n",
    "#int(df_alpha['Fp2-Average'].replace(',', ''))"
   ]
  },
  {
   "cell_type": "code",
   "execution_count": 19,
   "id": "db191230-ae04-46c3-8a7c-ab7922aee4da",
   "metadata": {},
   "outputs": [
    {
     "data": {
      "text/html": [
       "<div>\n",
       "<style scoped>\n",
       "    .dataframe tbody tr th:only-of-type {\n",
       "        vertical-align: middle;\n",
       "    }\n",
       "\n",
       "    .dataframe tbody tr th {\n",
       "        vertical-align: top;\n",
       "    }\n",
       "\n",
       "    .dataframe thead th {\n",
       "        text-align: right;\n",
       "    }\n",
       "</style>\n",
       "<table border=\"1\" class=\"dataframe\">\n",
       "  <thead>\n",
       "    <tr style=\"text-align: right;\">\n",
       "      <th></th>\n",
       "      <th>File</th>\n",
       "      <th>Fp2-Average</th>\n",
       "      <th>Fp1-Average</th>\n",
       "      <th>F8-Average</th>\n",
       "      <th>F7-Average</th>\n",
       "      <th>F4-Average</th>\n",
       "      <th>F3-Average</th>\n",
       "      <th>A2-Average</th>\n",
       "      <th>A1-Average</th>\n",
       "      <th>T4-Average</th>\n",
       "      <th>...</th>\n",
       "      <th>C3-Average</th>\n",
       "      <th>T6-Average</th>\n",
       "      <th>T5-Average</th>\n",
       "      <th>P4-Average</th>\n",
       "      <th>P3-Average</th>\n",
       "      <th>O2-Average</th>\n",
       "      <th>O1-Average</th>\n",
       "      <th>Fz-Average</th>\n",
       "      <th>Cz-Average</th>\n",
       "      <th>Pz-Average</th>\n",
       "    </tr>\n",
       "  </thead>\n",
       "  <tbody>\n",
       "    <tr>\n",
       "      <th>0</th>\n",
       "      <td>ru_nico.d.17.0019</td>\n",
       "      <td>4.161662</td>\n",
       "      <td>4.762865</td>\n",
       "      <td>7.246639</td>\n",
       "      <td>6.059806</td>\n",
       "      <td>2.153202</td>\n",
       "      <td>1.572805</td>\n",
       "      <td>15.029756</td>\n",
       "      <td>16.500593</td>\n",
       "      <td>9.567035</td>\n",
       "      <td>...</td>\n",
       "      <td>2.114502</td>\n",
       "      <td>9.567035</td>\n",
       "      <td>9.234154</td>\n",
       "      <td>20.851299</td>\n",
       "      <td>17.095161</td>\n",
       "      <td>22.880400</td>\n",
       "      <td>21.152048</td>\n",
       "      <td>1.129518</td>\n",
       "      <td>2.255890</td>\n",
       "      <td>18.627159</td>\n",
       "    </tr>\n",
       "    <tr>\n",
       "      <th>1</th>\n",
       "      <td>ru_nicod030032</td>\n",
       "      <td>3.518199</td>\n",
       "      <td>3.455632</td>\n",
       "      <td>3.530721</td>\n",
       "      <td>4.234659</td>\n",
       "      <td>1.874174</td>\n",
       "      <td>1.394773</td>\n",
       "      <td>7.810439</td>\n",
       "      <td>7.423106</td>\n",
       "      <td>3.998484</td>\n",
       "      <td>...</td>\n",
       "      <td>7.372659</td>\n",
       "      <td>3.998484</td>\n",
       "      <td>5.838541</td>\n",
       "      <td>15.995101</td>\n",
       "      <td>12.378187</td>\n",
       "      <td>9.849713</td>\n",
       "      <td>10.086205</td>\n",
       "      <td>1.926195</td>\n",
       "      <td>1.696814</td>\n",
       "      <td>10.556301</td>\n",
       "    </tr>\n",
       "    <tr>\n",
       "      <th>2</th>\n",
       "      <td>ru_nicod170019</td>\n",
       "      <td>4.161534</td>\n",
       "      <td>4.762608</td>\n",
       "      <td>7.246819</td>\n",
       "      <td>6.059433</td>\n",
       "      <td>2.153255</td>\n",
       "      <td>1.572751</td>\n",
       "      <td>15.029181</td>\n",
       "      <td>16.498966</td>\n",
       "      <td>9.566912</td>\n",
       "      <td>...</td>\n",
       "      <td>2.114394</td>\n",
       "      <td>9.566912</td>\n",
       "      <td>9.233415</td>\n",
       "      <td>20.850815</td>\n",
       "      <td>17.094631</td>\n",
       "      <td>22.879755</td>\n",
       "      <td>21.151377</td>\n",
       "      <td>1.129460</td>\n",
       "      <td>2.255825</td>\n",
       "      <td>18.626675</td>\n",
       "    </tr>\n",
       "    <tr>\n",
       "      <th>3</th>\n",
       "      <td>ru_nicod190021</td>\n",
       "      <td>5.457887</td>\n",
       "      <td>5.320032</td>\n",
       "      <td>8.166045</td>\n",
       "      <td>6.673810</td>\n",
       "      <td>2.488945</td>\n",
       "      <td>1.680824</td>\n",
       "      <td>28.949177</td>\n",
       "      <td>30.896576</td>\n",
       "      <td>10.956245</td>\n",
       "      <td>...</td>\n",
       "      <td>8.001479</td>\n",
       "      <td>10.956245</td>\n",
       "      <td>10.512586</td>\n",
       "      <td>23.326231</td>\n",
       "      <td>14.537515</td>\n",
       "      <td>37.609566</td>\n",
       "      <td>34.657375</td>\n",
       "      <td>1.417634</td>\n",
       "      <td>1.887176</td>\n",
       "      <td>12.033745</td>\n",
       "    </tr>\n",
       "    <tr>\n",
       "      <th>4</th>\n",
       "      <td>ru_nicod190026</td>\n",
       "      <td>1.742927</td>\n",
       "      <td>2.237509</td>\n",
       "      <td>2.294245</td>\n",
       "      <td>3.200365</td>\n",
       "      <td>1.093216</td>\n",
       "      <td>1.116978</td>\n",
       "      <td>4.283130</td>\n",
       "      <td>5.306987</td>\n",
       "      <td>4.650280</td>\n",
       "      <td>...</td>\n",
       "      <td>1.983116</td>\n",
       "      <td>4.650280</td>\n",
       "      <td>3.518667</td>\n",
       "      <td>4.448735</td>\n",
       "      <td>3.272606</td>\n",
       "      <td>5.652241</td>\n",
       "      <td>4.659122</td>\n",
       "      <td>0.588387</td>\n",
       "      <td>0.652448</td>\n",
       "      <td>4.443384</td>\n",
       "    </tr>\n",
       "  </tbody>\n",
       "</table>\n",
       "<p>5 rows × 22 columns</p>\n",
       "</div>"
      ],
      "text/plain": [
       "                File  Fp2-Average  Fp1-Average  F8-Average  F7-Average  \\\n",
       "0  ru_nico.d.17.0019     4.161662     4.762865    7.246639    6.059806   \n",
       "1     ru_nicod030032     3.518199     3.455632    3.530721    4.234659   \n",
       "2     ru_nicod170019     4.161534     4.762608    7.246819    6.059433   \n",
       "3     ru_nicod190021     5.457887     5.320032    8.166045    6.673810   \n",
       "4     ru_nicod190026     1.742927     2.237509    2.294245    3.200365   \n",
       "\n",
       "   F4-Average  F3-Average  A2-Average  A1-Average  T4-Average  ...  \\\n",
       "0    2.153202    1.572805   15.029756   16.500593    9.567035  ...   \n",
       "1    1.874174    1.394773    7.810439    7.423106    3.998484  ...   \n",
       "2    2.153255    1.572751   15.029181   16.498966    9.566912  ...   \n",
       "3    2.488945    1.680824   28.949177   30.896576   10.956245  ...   \n",
       "4    1.093216    1.116978    4.283130    5.306987    4.650280  ...   \n",
       "\n",
       "   C3-Average  T6-Average  T5-Average  P4-Average  P3-Average  O2-Average  \\\n",
       "0    2.114502    9.567035    9.234154   20.851299   17.095161   22.880400   \n",
       "1    7.372659    3.998484    5.838541   15.995101   12.378187    9.849713   \n",
       "2    2.114394    9.566912    9.233415   20.850815   17.094631   22.879755   \n",
       "3    8.001479   10.956245   10.512586   23.326231   14.537515   37.609566   \n",
       "4    1.983116    4.650280    3.518667    4.448735    3.272606    5.652241   \n",
       "\n",
       "   O1-Average  Fz-Average  Cz-Average  Pz-Average  \n",
       "0   21.152048    1.129518    2.255890   18.627159  \n",
       "1   10.086205    1.926195    1.696814   10.556301  \n",
       "2   21.151377    1.129460    2.255825   18.626675  \n",
       "3   34.657375    1.417634    1.887176   12.033745  \n",
       "4    4.659122    0.588387    0.652448    4.443384  \n",
       "\n",
       "[5 rows x 22 columns]"
      ]
     },
     "execution_count": 19,
     "metadata": {},
     "output_type": "execute_result"
    }
   ],
   "source": [
    "df_alpha.head()"
   ]
  },
  {
   "cell_type": "code",
   "execution_count": 23,
   "id": "326ea7a5-135c-4785-8b41-2a49b2bc8b93",
   "metadata": {},
   "outputs": [
    {
     "data": {
      "text/plain": [
       "array([[<AxesSubplot:title={'center':'Fp1-Average'}>]], dtype=object)"
      ]
     },
     "execution_count": 23,
     "metadata": {},
     "output_type": "execute_result"
    },
    {
     "data": {
      "image/png": "[encoded data removed]",
      "text/plain": [
       "<Figure size 432x288 with 1 Axes>"
      ]
     },
     "metadata": {
      "needs_background": "light"
     },
     "output_type": "display_data"
    }
   ],
   "source": [
    "df_alpha.hist([\"Fp1-Average\"])"
   ]
  },
  {
   "cell_type": "code",
   "execution_count": 26,
   "id": "6c487963-aebe-4891-b506-15207edc34a7",
   "metadata": {},
   "outputs": [
    {
     "ename": "TypeError",
     "evalue": "'DataFrame' object is not callable",
     "output_type": "error",
     "traceback": [
      "\u001b[0;31m---------------------------------------------------------------------------\u001b[0m",
      "\u001b[0;31mTypeError\u001b[0m                                 Traceback (most recent call last)",
      "\u001b[0;32m/var/folders/3g/2t794nps5pl_gsjs21kr6b1w0000gn/T/ipykernel_18096/3832321409.py\u001b[0m in \u001b[0;36m<module>\u001b[0;34m\u001b[0m\n\u001b[0;32m----> 1\u001b[0;31m \u001b[0mdf_theta\u001b[0m\u001b[0;34m(\u001b[0m\u001b[0;34m[\u001b[0m\u001b[0;34m\"Fp2-Average\"\u001b[0m\u001b[0;34m]\u001b[0m\u001b[0;34m)\u001b[0m\u001b[0;34m.\u001b[0m\u001b[0mmean\u001b[0m\u001b[0;34m\u001b[0m\u001b[0;34m\u001b[0m\u001b[0m\n\u001b[0m",
      "\u001b[0;31mTypeError\u001b[0m: 'DataFrame' object is not callable"
     ]
    }
   ],
   "source": [
    "df_theta([\"Fp2-Average\"]).mean"
   ]
  },
  {
   "cell_type": "code",
   "execution_count": 28,
   "id": "144bf333-2502-4cfa-ad5e-61652ad90756",
   "metadata": {},
   "outputs": [
    {
     "name": "stderr",
     "output_type": "stream",
     "text": [
      "/var/folders/3g/2t794nps5pl_gsjs21kr6b1w0000gn/T/ipykernel_18096/3156314465.py:1: FutureWarning: Dropping of nuisance columns in DataFrame reductions (with 'numeric_only=None') is deprecated; in a future version this will raise TypeError.  Select only valid columns before calling the reduction.\n",
      "  df_alpha.mean(axis=1).hist()\n"
     ]
    },
    {
     "data": {
      "text/plain": [
       "<AxesSubplot:>"
      ]
     },
     "execution_count": 28,
     "metadata": {},
     "output_type": "execute_result"
    },
    {
     "data": {
      "image/png": "[encoded data removed]",
      "text/plain": [
       "<Figure size 432x288 with 1 Axes>"
      ]
     },
     "metadata": {
      "needs_background": "light"
     },
     "output_type": "display_data"
    }
   ],
   "source": [
    "df_alpha.mean(axis=1).hist()"
   ]
  },
  {
   "cell_type": "code",
   "execution_count": 29,
   "id": "94229cdd-7989-482e-aaa6-f5380ad539d6",
   "metadata": {},
   "outputs": [
    {
     "name": "stderr",
     "output_type": "stream",
     "text": [
      "/var/folders/3g/2t794nps5pl_gsjs21kr6b1w0000gn/T/ipykernel_18096/951853063.py:1: FutureWarning: Dropping of nuisance columns in DataFrame reductions (with 'numeric_only=None') is deprecated; in a future version this will raise TypeError.  Select only valid columns before calling the reduction.\n",
      "  df_beta1.mean(axis=1).hist()\n"
     ]
    },
    {
     "data": {
      "text/plain": [
       "<AxesSubplot:>"
      ]
     },
     "execution_count": 29,
     "metadata": {},
     "output_type": "execute_result"
    },
    {
     "data": {
      "image/png": "[encoded data removed]",
      "text/plain": [
       "<Figure size 432x288 with 1 Axes>"
      ]
     },
     "metadata": {
      "needs_background": "light"
     },
     "output_type": "display_data"
    }
   ],
   "source": [
    "df_beta1.mean(axis=1).hist()"
   ]
  },
  {
   "cell_type": "code",
   "execution_count": 30,
   "id": "a091c5c5-51f8-4d90-9a08-5b296cae0f0a",
   "metadata": {},
   "outputs": [
    {
     "name": "stderr",
     "output_type": "stream",
     "text": [
      "/var/folders/3g/2t794nps5pl_gsjs21kr6b1w0000gn/T/ipykernel_18096/2590216730.py:1: FutureWarning: Dropping of nuisance columns in DataFrame reductions (with 'numeric_only=None') is deprecated; in a future version this will raise TypeError.  Select only valid columns before calling the reduction.\n",
      "  df_beta2.mean(axis=1).hist()\n"
     ]
    },
    {
     "data": {
      "text/plain": [
       "<AxesSubplot:>"
      ]
     },
     "execution_count": 30,
     "metadata": {},
     "output_type": "execute_result"
    },
    {
     "data": {
      "image/png": "[encoded data removed]",
      "text/plain": [
       "<Figure size 432x288 with 1 Axes>"
      ]
     },
     "metadata": {
      "needs_background": "light"
     },
     "output_type": "display_data"
    }
   ],
   "source": [
    "df_beta2.mean(axis=1).hist()"
   ]
  },
  {
   "cell_type": "code",
   "execution_count": 31,
   "id": "4f10ad9d-26a5-490c-92fa-da712c8931a0",
   "metadata": {},
   "outputs": [
    {
     "name": "stderr",
     "output_type": "stream",
     "text": [
      "/var/folders/3g/2t794nps5pl_gsjs21kr6b1w0000gn/T/ipykernel_18096/1974810541.py:1: FutureWarning: Dropping of nuisance columns in DataFrame reductions (with 'numeric_only=None') is deprecated; in a future version this will raise TypeError.  Select only valid columns before calling the reduction.\n",
      "  df_gamma.mean(axis=1).hist()\n"
     ]
    },
    {
     "data": {
      "text/plain": [
       "<AxesSubplot:>"
      ]
     },
     "execution_count": 31,
     "metadata": {},
     "output_type": "execute_result"
    },
    {
     "data": {
      "image/png": "[encoded data removed]",
      "text/plain": [
       "<Figure size 432x288 with 1 Axes>"
      ]
     },
     "metadata": {
      "needs_background": "light"
     },
     "output_type": "display_data"
    }
   ],
   "source": [
    "df_gamma.mean(axis=1).hist()"
   ]
  },
  {
   "cell_type": "code",
   "execution_count": 32,
   "id": "4d734496-a55b-4892-91c1-8454d7bbc120",
   "metadata": {},
   "outputs": [
    {
     "name": "stderr",
     "output_type": "stream",
     "text": [
      "/var/folders/3g/2t794nps5pl_gsjs21kr6b1w0000gn/T/ipykernel_18096/2477493232.py:1: FutureWarning: Dropping of nuisance columns in DataFrame reductions (with 'numeric_only=None') is deprecated; in a future version this will raise TypeError.  Select only valid columns before calling the reduction.\n",
      "  df_delta.mean(axis=1).hist()\n"
     ]
    },
    {
     "data": {
      "text/plain": [
       "<AxesSubplot:>"
      ]
     },
     "execution_count": 32,
     "metadata": {},
     "output_type": "execute_result"
    },
    {
     "data": {
      "image/png": "[encoded data removed]",
      "text/plain": [
       "<Figure size 432x288 with 1 Axes>"
      ]
     },
     "metadata": {
      "needs_background": "light"
     },
     "output_type": "display_data"
    }
   ],
   "source": [
    "df_delta.mean(axis=1).hist()"
   ]
  },
  {
   "cell_type": "code",
   "execution_count": 33,
   "id": "33de591c-de43-4a8f-b511-0c80fe94483d",
   "metadata": {},
   "outputs": [
    {
     "name": "stderr",
     "output_type": "stream",
     "text": [
      "/var/folders/3g/2t794nps5pl_gsjs21kr6b1w0000gn/T/ipykernel_18096/1669084712.py:1: FutureWarning: Dropping of nuisance columns in DataFrame reductions (with 'numeric_only=None') is deprecated; in a future version this will raise TypeError.  Select only valid columns before calling the reduction.\n",
      "  df_theta.mean(axis=1).hist()\n"
     ]
    },
    {
     "data": {
      "text/plain": [
       "<AxesSubplot:>"
      ]
     },
     "execution_count": 33,
     "metadata": {},
     "output_type": "execute_result"
    },
    {
     "data": {
      "image/png": "[encoded data removed]",
      "text/plain": [
       "<Figure size 432x288 with 1 Axes>"
      ]
     },
     "metadata": {
      "needs_background": "light"
     },
     "output_type": "display_data"
    }
   ],
   "source": [
    "df_theta.mean(axis=1).hist()"
   ]
  },
  {
   "cell_type": "code",
   "execution_count": 45,
   "id": "6e9e61d9-161a-4a65-94ff-04b12227c5a0",
   "metadata": {},
   "outputs": [
    {
     "data": {
      "text/plain": [
       "<AxesSubplot:>"
      ]
     },
     "execution_count": 45,
     "metadata": {},
     "output_type": "execute_result"
    },
    {
     "data": {
      "image/png": "[encoded data removed]",
      "text/plain": [
       "<Figure size 432x288 with 1 Axes>"
      ]
     },
     "metadata": {
      "needs_background": "light"
     },
     "output_type": "display_data"
    }
   ],
   "source": [
    "df_alpha.boxplot(grid=False, rot=45, fontsize=10, showfliers=False)"
   ]
  },
  {
   "cell_type": "code",
   "execution_count": 50,
   "id": "7d3325d5-03fd-4422-bb14-04f82f856a39",
   "metadata": {},
   "outputs": [
    {
     "data": {
      "text/plain": [
       "<AxesSubplot:>"
      ]
     },
     "execution_count": 50,
     "metadata": {},
     "output_type": "execute_result"
    },
    {
     "data": {
      "image/png": "[encoded data removed]",
      "text/plain": [
       "<Figure size 432x288 with 1 Axes>"
      ]
     },
     "metadata": {
      "needs_background": "light"
     },
     "output_type": "display_data"
    }
   ],
   "source": [
    "df_beta1.boxplot(grid=False, rot=45, fontsize=10, showfliers=False)"
   ]
  },
  {
   "cell_type": "code",
   "execution_count": 46,
   "id": "a0be6d4d-dc37-4f1b-85cc-e1d68c77d323",
   "metadata": {},
   "outputs": [
    {
     "data": {
      "text/plain": [
       "<AxesSubplot:>"
      ]
     },
     "execution_count": 46,
     "metadata": {},
     "output_type": "execute_result"
    },
    {
     "data": {
      "image/png": "[encoded data removed]",
      "text/plain": [
       "<Figure size 432x288 with 1 Axes>"
      ]
     },
     "metadata": {
      "needs_background": "light"
     },
     "output_type": "display_data"
    }
   ],
   "source": [
    "df_beta2.boxplot(grid=False, rot=45, fontsize=10, showfliers=False)"
   ]
  },
  {
   "cell_type": "code",
   "execution_count": 47,
   "id": "f6545031-2ba1-4f91-9c48-78be9ece3b9a",
   "metadata": {},
   "outputs": [
    {
     "data": {
      "text/plain": [
       "<AxesSubplot:>"
      ]
     },
     "execution_count": 47,
     "metadata": {},
     "output_type": "execute_result"
    },
    {
     "data": {
      "image/png": "[encoded data removed]",
      "text/plain": [
       "<Figure size 432x288 with 1 Axes>"
      ]
     },
     "metadata": {
      "needs_background": "light"
     },
     "output_type": "display_data"
    }
   ],
   "source": [
    "df_gamma.boxplot(grid=False, rot=45, fontsize=10, showfliers=False)"
   ]
  },
  {
   "cell_type": "code",
   "execution_count": 48,
   "id": "dd0b09dd-02d5-451b-ab7b-6adde66a14a6",
   "metadata": {},
   "outputs": [
    {
     "data": {
      "text/plain": [
       "<AxesSubplot:>"
      ]
     },
     "execution_count": 48,
     "metadata": {},
     "output_type": "execute_result"
    },
    {
     "data": {
      "image/png": "[encoded data removed]",
      "text/plain": [
       "<Figure size 432x288 with 1 Axes>"
      ]
     },
     "metadata": {
      "needs_background": "light"
     },
     "output_type": "display_data"
    }
   ],
   "source": [
    "df_delta.boxplot(grid=False, rot=45, fontsize=10, showfliers=False)"
   ]
  },
  {
   "cell_type": "code",
   "execution_count": 49,
   "id": "988ab759-80c3-458c-9ce7-322155eb127d",
   "metadata": {},
   "outputs": [
    {
     "data": {
      "text/plain": [
       "<AxesSubplot:>"
      ]
     },
     "execution_count": 49,
     "metadata": {},
     "output_type": "execute_result"
    },
    {
     "data": {
      "image/png": "[encoded data removed]",
      "text/plain": [
       "<Figure size 432x288 with 1 Axes>"
      ]
     },
     "metadata": {
      "needs_background": "light"
     },
     "output_type": "display_data"
    }
   ],
   "source": [
    "df_theta.boxplot(grid=False, rot=45, fontsize=10, showfliers=False)"
   ]
  },
  {
   "cell_type": "code",
   "execution_count": null,
   "id": "457b2ca8-af4f-431f-bcf4-0efbcdcd7804",
   "metadata": {},
   "outputs": [],
   "source": []
  }
 ],
 "metadata": {
  "kernelspec": {
   "display_name": "Python 3 (ipykernel)",
   "language": "python",
   "name": "python3"
  },
  "language_info": {
   "codemirror_mode": {
    "name": "ipython",
    "version": 3
   },
   "file_extension": ".py",
   "mimetype": "text/x-python",
   "name": "python",
   "nbconvert_exporter": "python",
   "pygments_lexer": "ipython3",
   "version": "3.9.4"
  }
 },
 "nbformat": 4,
 "nbformat_minor": 5
}
